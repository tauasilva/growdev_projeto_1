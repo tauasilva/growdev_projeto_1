{
  "nbformat": 4,
  "nbformat_minor": 0,
  "metadata": {
    "colab": {
      "provenance": [],
      "authorship_tag": "ABX9TyOhvKgCyjrGQWpMu5rZwONt",
      "include_colab_link": true
    },
    "kernelspec": {
      "name": "python3",
      "display_name": "Python 3"
    },
    "language_info": {
      "name": "python"
    }
  },
  "cells": [
    {
      "cell_type": "markdown",
      "metadata": {
        "id": "view-in-github",
        "colab_type": "text"
      },
      "source": [
        "<a href=\"https://colab.research.google.com/github/tauasilva/growdev_projeto_1/blob/main/Analise_instagram.ipynb\" target=\"_parent\"><img src=\"https://colab.research.google.com/assets/colab-badge.svg\" alt=\"Open In Colab\"/></a>"
      ]
    },
    {
      "cell_type": "code",
      "execution_count": null,
      "metadata": {
        "id": "Zyl_pm06ZiuX"
      },
      "outputs": [],
      "source": [
        "# Projeto 1\n",
        "\n",
        "Fonte dedados: https://rapidapi.com/mrngstar/api/instagram-scraper-api3\n",
        "\n",
        "Instagram: marcitocastro (482001976) - https://www.instagram.com/marcitocastro/\n",
        "\n",
        "- [x] fotografia do perfil dia a dia (1 request por dia)\n",
        "- [ ] informações gerais sobre as ultimas 24 postagens (2 requests por dia)\n",
        "- [ ] informações da ultima postagem (comentarios, Gerais do post) (17 requests por dia)"
      ]
    }
  ]
}